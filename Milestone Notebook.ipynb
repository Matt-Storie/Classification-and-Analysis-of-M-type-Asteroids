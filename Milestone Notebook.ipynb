{
 "cells": [
  {
   "cell_type": "markdown",
   "id": "1bd4e5cd-7729-4e71-9c73-e7517901e219",
   "metadata": {},
   "source": [
    "# First Milestone Report\n",
    "## Part 1: Students\n",
    " - Ian Wixom - u1201040\n",
    " - Matt Storie - u1136903"
   ]
  },
  {
   "cell_type": "markdown",
   "id": "c8e5be1e-d0ee-42aa-84a6-595ae23cd7d5",
   "metadata": {},
   "source": [
    "## Part 2: Project Description\n",
    "\n",
    "    Our project is a data analysis and potential decision making tool for discovering clusters of M-type, S-type, and Q-type Asteroids, or asteroids that are primarily composed of metal (or at least has an indication of a metallic presence) according to two spectral types: Tholen and SMASSII. We will also consider transition types that maintain a considerable metallic composition. Our project is intended to find what area in space would have the highest density of M-type asteroids in our solar system for space mining by calculating the distribution within a given region and angle to the sun, akin to finding the “optimal slice of pie crust.” If possible, we would also attempt to calculate the amount of material potentially extracted. "
   ]
  },
  {
   "cell_type": "markdown",
   "id": "fd9f23d0-0aab-4336-a8c9-97943e387eea",
   "metadata": {},
   "source": [
    "## Part 3: Data/Data Description\n",
    "\n",
    "    The data acquired resulted from the Small-Body Database Query from Jet Propulsion Laboratory from the following link: https://ssd.jpl.nasa.gov/tools/sbdb_query.html. From the database, we pulled information from the following regions: the inner main-belt asteroid group (which is when the semi major axis (sma) is greater than 2.0 astronomical units (au), and perihelion (peri) is more than 1.666 au), the main-belt asteroid group (2.0 au < sma < 3.2 au, peri > 1.666 au), the outer main-belt asteroid group (3.2 au < sma < 4.6 au), and Jupiter’s trojans.\n",
    "\n",
    "    To accurately assess the composition of the asteroids, we composed the CSV files of two presets provided by JPL: basic asteroid properties, and the physical parameters for asteroids. The basic asteroid properties include semi major axis, eccentricity, inclination, longitude of ascending node, argument of perihelion, perihelion distance, aphelion distance, sidereal orbital period, and number of observations used. From the physical parameters for asteroids we get absolute magnitude parameter, object diameter, the three-dimensional extent of an asteroid, geometric albedo, rotation period, the standard gravitational parameter, the B-V, U-B, I-R color indexes, and the Tholen and SMASSII spectral taxonomic type. Most of the data points miss key elements such as the spectral taxonomic type and physical parameters, so data will be handled separately to find density as well as wanted asteroids.\n"
   ]
  },
  {
   "cell_type": "markdown",
   "id": "fca08da5-d05f-4893-a3ce-a8b423249cb3",
   "metadata": {},
   "source": [
    "## Part 4: Ethical Data Concerns\n",
    "\n",
    "    Early exploration of the data reveals that only about 1,700 of over one million asteroids in the set have been classified, while the unclassified asteroids have varying numbers of information about them. All asteroids in the set have at least 33 observations, so we can be confident that the other parameters on them are accurate. Unfortunately, most asteroids in the set have one or more missing values for the variables that are predictive for classification. A prototype model using only one variable to predict if asteroids belonged to the group of interest (S, M, and Q type asteroids) with approximately 79% accuracy. Since this is below what we would like, we have decided to use principal component analysis to combine these other predictive variables into one that can be broadly used across the rest of the set. Fortunately, most of the categorized asteroids have values for all of these fields, so the accuracy of the resulting model should improve upon the current methods."
   ]
  },
  {
   "cell_type": "markdown",
   "id": "3720bd31-df98-442b-a452-022c68e32f05",
   "metadata": {},
   "source": [
    "## Part 5: Analysis Methods\n",
    "\n",
    "    As many other projects are, we are running our data analytics on a jupyter notebook with a GitHub repository. Many of the libraries we are implementing in our project has been previously used in class: Pandas, SciPy, NumPy, Seaborns, SciKitLearn and matplotlib will be used for almost all of the processes of analytics and visualization. We will also be including AstroPy and potentially another machine learning library for our analysis. We are still exploring the latter libraries to find if there are optimal methods.\n",
    "\n",
    "    Once we have thoroughly handled the data, we will be sorting the spectral types of small bodies into a binary: whether it is classified as an interest or not, dependent upon the SMASSII and Tholen types. We will then use dimensional reduction methods, principally Principle Component Analysis, to use for more effective predictive modeling. Furthermore, we will split the data into testing and training datasets. We will try SVM models, k-means clustering, decision trees, and a simple machine learning model. We will then used unsupervised learning techniques for the much larger dataset with albedo as the method of classification and regional distribution.\n",
    "\n",
    "    We have a plethora of things within this project to visualize. We intend on using a seaborns pair-plot to cross-compare all of the features within the dataset. On top of that, we will provide a visualization of the known distribution of common asteroid class types. This will provide us a general intuition of the expected asteroid type ranges. Since we are also considering the use of PCA, visualizing the first two or three components would be helpful as well. AstroPy also provides data visualization tools unique to astronomy based projects, which we will look more into after this first milestone. And we will finally provide a cross comparison between the models, and provide discussion at length for the strengths and weaknesses for each in their performance.\n",
    "        \n",
    "    As for the metrics and parameters of this project, the metrics almost exclusively rely upon which asteroid types we consider “useful,” meaning that there is a high chance to provide iron, nickel and other rare metals from the asteroid. We will conduct further investigations into the makeup of each SMASSII and Tholen classification to ensure we increase the likelihood of finding useful material. As for the parameters, this primarily comes from the Small-Body Database from JPL, which we will look further into if there are inadequate results. \t"
   ]
  },
  {
   "cell_type": "markdown",
   "id": "c1ad5ac5-0bc7-4ab8-86cc-71be10e42867",
   "metadata": {},
   "source": [
    "## Part 6: Preliminary Results\n",
    "\n",
    "\tThe very first goals in this project were completed with little difficulty. A github repository was created, and has been used to share files and updates between the members of the group easily. The CSV file containing the data was larger than anticipated (over 110 mb), but was able to be split into multiple files. The files were then rejoined in python. Some minor changes needed to be made as NA columns were dropped, and were then added back into the main set. This also revealed some early insights into the amount of missing data, as the second file contained 440,000 asteroids, all of which did not have data for the columns including classification, and all but one of the predictive variables. \n",
    "    \n",
    "    Currently, the project has made substantial efforts toward developing a model to classify unclassified asteroids in the set. In our original proposal, we anticipated the unclassified asteroids to be a minor part of the dataset, and to be dealt with easily. Early exploration of the data however revealed significant problems with our early goals. First, less than one percent of all of the asteroids in the set were classified, which was a significant departure from our expectations. Second, most asteroids in the set had at least one missing value in the predictive variables used to classify the asteroids. This required us to significantly adjust the implementation of our project, as creating a reliable way of classifying the unclassified asteroids has now become a significant obstacle. \n",
    "    \n",
    "\tWe recognized that we would need to use machine learning to accurately categorize the dataset, as a simple if/then tree with threshold values would not be sufficient to sort the unclassified asteroids. At this time we also expanded the asteroids of interest to include S and Q type asteroids. This was done to obtain a more robust sample to train our model with, and also makes sense as these types of asteroids have compositions that are not completely metallic, but have significant amounts of metallic minerals in their compositions. \n",
    "    \n",
    "    We created a prototype model using one predictive variable (albedo) to classify asteroids as either belonging to the group of interest or not. This preliminary model had an accuracy of approximately 78%. Expanding the sample which the model was trained with by including asteroids of transitory classifications actually reduced the accuracy of the model at this stage. This preliminary model will be useful, as over 400,000 asteroids in the set have a value for albedo, and no other predictive variables. However, we are currently working to combine some of the predictive variables into one predictor. This has the advantage of being applicable to all asteroids which have data on at least one of the predictors, where not having this single predictor would exclude asteroids that did not have data on all variables used. Since we are using principal component analysis to do so, and this topic was introduced after the initial proposal, we are currently working to include this strategy into the model to improve accuracy. \n"
   ]
  },
  {
   "cell_type": "markdown",
   "id": "1f3d37c3-d5f0-4210-8e28-0aab61c9c46b",
   "metadata": {},
   "source": [
    "## Part 7: Peer Review\n",
    "\n",
    "    We exchanged proposals with another group for peer review and after providing them with substantial feedback, they in turn did not have any constructive criticism to share. They commended us for our organization and attention to detail on our project, but did not specify any particular strengths, nor provide any criticism or suggestions for improvement. Efforts were made to find another group to review our project, but no contact was established with any of the other groups before the deadline.\n"
   ]
  },
  {
   "cell_type": "markdown",
   "id": "40b9d3ed-1f8b-4db7-bcf9-6675fdc6d483",
   "metadata": {},
   "source": [
    "## Part 8: List of Completed Milestones\n",
    "\n",
    "- Collected and cleaned the data from the Small-Body Database Query\n",
    "- Found a way to fit the large dataset onto the GitHub repository\n",
    "- Conducted initial exploratory data analysis\n",
    "- Created a sampling technique for the dataset\n",
    "- Initial analysis of categorization of asteroids with an SVM model under an rbf kernel\n"
   ]
  },
  {
   "cell_type": "markdown",
   "id": "d71a39cd-587d-40bd-b10b-bd80481ad71d",
   "metadata": {},
   "source": [
    "## Part 9: List of Upcoming Milestones\n",
    "\n",
    "- Refinement of multivariable classification model\n",
    "- Creating subset of data with the asteroids of interest (those classified already, and those classified by our models)\n",
    "- Analyzing the distribution, size, and distance of the asteroids of interest\n",
    "- Visualization of classifying the data\n",
    "- Visualization of the final results\n",
    "- Revising the notebook file to remove any testing code, unnecessary comments, and add in interpretation of the results\n",
    "- Recording of final presentation\n"
   ]
  },
  {
   "cell_type": "markdown",
   "id": "f3b47cf8-1cf9-43d5-aac0-52403f0a0a7f",
   "metadata": {},
   "source": [
    "## Part 10: Potential Modifications\n",
    "\n",
    "    As mentioned, we have made some modifications to the project. This was necessary as the dataset we were using required significantly more work to categorize asteroids of interest in order to meet our initial inquiries. The large amounts of missing data required much more refined and complex strategies than initially anticipated in order to reliably and confidently classify the data. The main differences in our project are summarized below:\n",
    "    \n",
    "        Classifying the unclassified asteroids is no longer part of the initial data-clearing phase, but a significant portion of the overall project. Consequently, the methods and results will be interpreted and visualized similar to the final results\n",
    "        \n",
    "        The types of asteroids of interest have been expanded to increase the validity of our classification methods in a way that does not undermine our original research questions, as the newly included types of asteroids still have significant metallic composition.\n",
    "        \n",
    "        We are no longer going to be characterize multiple regions of the solar system and comparing them against one another. This would have required far more of the asteroids in the original set to have been classified, and doing this on top of the machine learning models is not realistic for the timeframe of the project\n",
    "        \n",
    "        Data visualizations, and written interpretations have been updated to include the categorization portion of the project, as it has become quite important to the project and also show meaningful insight on the population that should be communicated. \n"
   ]
  },
  {
   "cell_type": "markdown",
   "id": "7148cf36-5bf7-4ba0-9aae-9bf644a457a8",
   "metadata": {},
   "source": [
    "## Part 11: Summary\n",
    "\n",
    "    The current project can be summarized in three broad areas. First, the classification of unclassified asteroids by machine learning, trained on the subset of the population that has been classified already. Second, the analysis of metallic asteroids including distribution in space, size, and any notable concentrations. Third, the visualizations and interpretations of the first two parts of the project. These models are somewhat complex, so ample communication of how we arrived at our final results is warranted. \n",
    "\n",
    "## Part 12: Is the Project On-Track? (Y/N)\n",
    "\n",
    "Yes."
   ]
  },
  {
   "cell_type": "code",
   "execution_count": null,
   "id": "bf4128bf-cccd-4a84-a3ca-d9a40162495e",
   "metadata": {},
   "outputs": [],
   "source": []
  }
 ],
 "metadata": {
  "kernelspec": {
   "display_name": "Python 3 (ipykernel)",
   "language": "python",
   "name": "python3"
  },
  "language_info": {
   "codemirror_mode": {
    "name": "ipython",
    "version": 3
   },
   "file_extension": ".py",
   "mimetype": "text/x-python",
   "name": "python",
   "nbconvert_exporter": "python",
   "pygments_lexer": "ipython3",
   "version": "3.9.12"
  }
 },
 "nbformat": 4,
 "nbformat_minor": 5
}
