{
 "cells": [
  {
   "cell_type": "markdown",
   "id": "457094b7",
   "metadata": {},
   "source": [
    "# Classification and Distribution of M-Type Asteroids\n",
    "## Introduction to Data Science (MATH 4100/COMP 5360) Final Project\n",
    "## Matt Storie and Ian Wixom\n",
    "\n",
    "Testing pushing the notebook to main"
   ]
  }
 ],
 "metadata": {
  "kernelspec": {
   "display_name": "Python 3 (ipykernel)",
   "language": "python",
   "name": "python3"
  },
  "language_info": {
   "codemirror_mode": {
    "name": "ipython",
    "version": 3
   },
   "file_extension": ".py",
   "mimetype": "text/x-python",
   "name": "python",
   "nbconvert_exporter": "python",
   "pygments_lexer": "ipython3",
   "version": "3.9.13"
  }
 },
 "nbformat": 4,
 "nbformat_minor": 5
}
